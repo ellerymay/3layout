{
  "nbformat": 4,
  "nbformat_minor": 0,
  "metadata": {
    "colab": {
      "name": "Notes and Exercise ",
      "provenance": [],
      "authorship_tag": "ABX9TyOnQIwwMDUlIk7Zb0P6RdGL",
      "include_colab_link": true
    },
    "kernelspec": {
      "name": "python3",
      "display_name": "Python 3"
    },
    "language_info": {
      "name": "python"
    }
  },
  "cells": [
    {
      "cell_type": "markdown",
      "metadata": {
        "id": "view-in-github",
        "colab_type": "text"
      },
      "source": [
        "<a href=\"https://colab.research.google.com/github/ellerymay/3layout/blob/main/Notes_and_Exercise.ipynb\" target=\"_parent\"><img src=\"https://colab.research.google.com/assets/colab-badge.svg\" alt=\"Open In Colab\"/></a>"
      ]
    },
    {
      "cell_type": "code",
      "source": [
        "%%writefile MutliVar.java\n",
        "public class MultiVar {\n",
        "    \n",
        "    public static void main (String[] args) {\n",
        "        String myVar = \"I am a variable\";\n",
        "        double measurement = 10.799934;\n",
        "    \n",
        "    System.out.println(\"the contents of myvar are\" + myVar);\n",
        "    System.out.printf(\"the contnets of myVar are %s and once again %s\\n\", myVar, myVar); //printf does not give us a new line\n",
        "    System.out.printf(\"the measurement value is: %.2f\", measurement);\n",
        "\n",
        "    }\n",
        "}"
      ],
      "metadata": {
        "colab": {
          "base_uri": "https://localhost:8080/"
        },
        "id": "UYPpjarX9xky",
        "outputId": "9bcbce5a-cafa-4a5c-88a1-fbb947a459fc"
      },
      "execution_count": 23,
      "outputs": [
        {
          "output_type": "stream",
          "name": "stdout",
          "text": [
            "Overwriting MutliVar.java\n"
          ]
        }
      ]
    },
    {
      "cell_type": "code",
      "source": [
        "!javac Hello.java\n",
        "!java Hello"
      ],
      "metadata": {
        "colab": {
          "base_uri": "https://localhost:8080/"
        },
        "id": "WIM1P9yp-CIg",
        "outputId": "6d11fd20-ceda-4046-e42e-41073258e778"
      },
      "execution_count": 24,
      "outputs": [
        {
          "output_type": "stream",
          "name": "stdout",
          "text": [
            "Hello.java:7: error: cannot find symbol\n",
            "    System.out.printf(\"the measurement value is: %.2f\", measurement);\n",
            "                                                        ^\n",
            "  symbol:   variable measurement\n",
            "  location: class Hello\n",
            "1 error\n",
            "the contents of myvar areI am a variable\n",
            "the contnets of myVar are I am a variable"
          ]
        }
      ]
    }
  ]
}